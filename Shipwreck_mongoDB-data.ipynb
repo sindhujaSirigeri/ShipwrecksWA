{
 "cells": [
  {
   "cell_type": "code",
   "execution_count": 3,
   "metadata": {},
   "outputs": [],
   "source": [
    "# Import dependencies\n",
    "from pymongo import MongoClient\n",
    "import pandas as pd\n",
    "from pprint import pprint\n",
    "import os\n",
    "import json"
   ]
  },
  {
   "cell_type": "code",
   "execution_count": 4,
   "metadata": {},
   "outputs": [],
   "source": [
    "\n",
    "# Define the file path to the GeoJSON file in the Resources folder\n",
    "file_path = os.path.join('Resources', 'Shipwrecks_WAM_002_WA_GDA2020_Public.geojson')\n",
    "\n",
    "# Load the GeoJSON data\n",
    "with open(file_path) as f:\n",
    "    data = json.load(f)\n",
    "\n"
   ]
  },
  {
   "cell_type": "code",
   "execution_count": 5,
   "metadata": {},
   "outputs": [],
   "source": [
    "\n",
    "# Connect to MongoDB and create the 'shipwrecks_db' database\n",
    "client = MongoClient('mongodb://localhost:27017/')\n",
    "db = client['shipwrecks_db']\n"
   ]
  },
  {
   "cell_type": "code",
   "execution_count": 6,
   "metadata": {},
   "outputs": [],
   "source": [
    "# Seperate the data to make two collections \n",
    "\n",
    "geometry_data = []\n",
    "properties_data = []\n",
    "\n",
    "# Ensure the data contains the 'features' key\n",
    "if 'features' in data:\n",
    "    # Split the data into geometry and properties\n",
    "    for feature in data['features']:\n",
    "        geometry = {\n",
    "            \"object_id\": feature[\"properties\"][\"object_id\"],\n",
    "            \"type\": feature[\"type\"],\n",
    "            \"geometry\": feature[\"geometry\"]\n",
    "        }\n",
    "        properties = feature[\"properties\"]\n",
    "\n",
    "        geometry_data.append(geometry)\n",
    "        properties_data.append(properties)\n",
    "\n",
    "    # Insert geometry data into the 'geometry_collection' collection\n",
    "    geometry_collection = db['geometry_collection']\n",
    "    geometry_collection.insert_many(geometry_data)\n",
    "\n",
    "    # Insert properties data into the 'properties_collection' collection\n",
    "    properties_collection = db['properties_collection']\n",
    "    properties_collection.insert_many(properties_data)\n",
    "else:\n",
    "    print(\"The provided file does not contain 'features' key.\")"
   ]
  },
  {
   "cell_type": "code",
   "execution_count": 7,
   "metadata": {},
   "outputs": [
    {
     "name": "stdout",
     "output_type": "stream",
     "text": [
      "['geometry_collection', 'properties_collection']\n"
     ]
    }
   ],
   "source": [
    "print(db.list_collection_names())"
   ]
  },
  {
   "cell_type": "code",
   "execution_count": 8,
   "metadata": {},
   "outputs": [
    {
     "name": "stdout",
     "output_type": "stream",
     "text": [
      "{'_id': ObjectId('6687a4a77f08e12b9d543892'),\n",
      " 'beam': '',\n",
      " 'bearing_to': '',\n",
      " 'constructi': '',\n",
      " 'country_bu': 'Unknown',\n",
      " 'crew': '',\n",
      " 'date_depth': '',\n",
      " 'date_inspe': '',\n",
      " 'deaths': '',\n",
      " 'draft': '',\n",
      " 'engine': 'N',\n",
      " 'file_numbe': '3/79',\n",
      " 'industry_1': '',\n",
      " 'industry_2': '',\n",
      " 'lat': -17.9728,\n",
      " 'length': '',\n",
      " 'length_of_': '',\n",
      " 'long': 122.2456,\n",
      " 'master': '',\n",
      " 'max_depth': 0,\n",
      " 'min_depth': 0,\n",
      " 'name': 'Broome Flying Boats',\n",
      " 'object_id': 1,\n",
      " 'official_n': '',\n",
      " 'ogc_fid': 1,\n",
      " 'owner': '',\n",
      " 'passengers': '',\n",
      " 'port_built': '',\n",
      " 'port_from': '',\n",
      " 'port_regis': '',\n",
      " 'port_to': '',\n",
      " 'position_i': '',\n",
      " 'protected': 'Protected Heritage WA Act',\n",
      " 'region': 'North West (Broome Area)',\n",
      " 'registrati': '',\n",
      " 'rig': '',\n",
      " 'sinking': '',\n",
      " 'sources': '',\n",
      " 'sunk_code': '',\n",
      " 'time_depth': '',\n",
      " 'tona': '',\n",
      " 'tonb': '',\n",
      " 'type_of_si': 'Aircraft',\n",
      " 'unique_num': 227,\n",
      " 'url': '',\n",
      " 'when_built': '',\n",
      " 'when_found': '',\n",
      " 'when_lost': '1942/03/03',\n",
      " 'where_lost': 'Broome, Roebuck Bay'}\n"
     ]
    }
   ],
   "source": [
    "# example pprint of features\n",
    "pprint(db.properties_collection.find_one())"
   ]
  },
  {
   "cell_type": "code",
   "execution_count": 9,
   "metadata": {},
   "outputs": [
    {
     "name": "stdout",
     "output_type": "stream",
     "text": [
      "{'_id': ObjectId('6687a4a77f08e12b9d543761'),\n",
      " 'geometry': {'coordinates': [122.245609564, -17.972786219], 'type': 'Point'},\n",
      " 'object_id': 1,\n",
      " 'type': 'Feature'}\n"
     ]
    }
   ],
   "source": [
    "# example pprint of properties \n",
    "pprint(db.geometry_collection.find_one())"
   ]
  },
  {
   "cell_type": "code",
   "execution_count": null,
   "metadata": {},
   "outputs": [],
   "source": []
  }
 ],
 "metadata": {
  "kernelspec": {
   "display_name": "myenv",
   "language": "python",
   "name": "python3"
  },
  "language_info": {
   "codemirror_mode": {
    "name": "ipython",
    "version": 3
   },
   "file_extension": ".py",
   "mimetype": "text/x-python",
   "name": "python",
   "nbconvert_exporter": "python",
   "pygments_lexer": "ipython3",
   "version": "3.9.19"
  }
 },
 "nbformat": 4,
 "nbformat_minor": 2
}
